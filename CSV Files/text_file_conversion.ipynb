{
 "cells": [
  {
   "cell_type": "code",
   "execution_count": 1,
   "metadata": {},
   "outputs": [],
   "source": [
    "import os\n",
    "import re"
   ]
  },
  {
   "cell_type": "markdown",
   "metadata": {},
   "source": [
    "# For Yellow Car First Input.txt"
   ]
  },
  {
   "cell_type": "code",
   "execution_count": 58,
   "metadata": {},
   "outputs": [],
   "source": [
    "with open(\"output_car_yellow_first.txt\",\"w\")as a:\n",
    "    for path, subdirs, files in os.walk(r'../bfs-camera-driver/subscriber/data/img/car_A_Yellow_15000/car_yellow_calibrated'):\n",
    "        def atoi(text):\n",
    "            return int(text) if text.isdigit() else text\n",
    "\n",
    "        def natural_keys(text):\n",
    "            return [ atoi(c) for c in re.split(r'(\\d+)', text) ]\n",
    "\n",
    "\n",
    "        files.sort(key=natural_keys)\n",
    "        #print(files)\n",
    "        for filename in files:\n",
    "            f=os.path.join('data/' + filename)\n",
    "            a.write(str(f) + os.linesep)"
   ]
  },
  {
   "cell_type": "markdown",
   "metadata": {},
   "source": [
    "# For Yellow Car Second Input.txt "
   ]
  },
  {
   "cell_type": "code",
   "execution_count": 60,
   "metadata": {},
   "outputs": [],
   "source": [
    "with open(\"output_car_yellow_second.txt\",\"w\")as a:\n",
    "    for path, subdirs, files in os.walk(r'../bfs-camera-driver/subscriber/data/img/car_A_Yellow_15000/car_yellow_calibrated'):\n",
    "       \n",
    "            \n",
    "        def atoi(text):\n",
    "            return int(text) if text.isdigit() else text\n",
    "\n",
    "        def natural_keys(text):\n",
    "           \n",
    "            return [ atoi(c) for c in re.split(r'(\\d+)', text) ]\n",
    "        \n",
    "        files.sort(key=natural_keys)\n",
    "        files.remove('calibrated_0.png')\n",
    "        for filename in files:\n",
    "            \n",
    "            f=os.path.join('data/' + filename)\n",
    "            a.write(str(f) + os.linesep)"
   ]
  },
  {
   "cell_type": "markdown",
   "metadata": {},
   "source": [
    "# For Red Car First Input.txt"
   ]
  },
  {
   "cell_type": "code",
   "execution_count": 63,
   "metadata": {},
   "outputs": [],
   "source": [
    "with open(\"output_car_red_first.txt\",\"w\")as a:\n",
    "    for path, subdirs, files in os.walk(r'../bfs-camera-driver/subscriber/data/img/car_B_red_14000/cars_calibrated_red'):\n",
    "        def atoi(text):\n",
    "            return int(text) if text.isdigit() else text\n",
    "\n",
    "        def natural_keys(text):\n",
    "            \n",
    "            return [ atoi(c) for c in re.split(r'(\\d+)', text) ]\n",
    "\n",
    "        files.sort(key=natural_keys)\n",
    "        for filename in files:\n",
    "            f=os.path.join('data/' + filename)\n",
    "            a.write(str(f) + os.linesep)"
   ]
  },
  {
   "cell_type": "markdown",
   "metadata": {},
   "source": [
    "# For Red Car Second Input.txt"
   ]
  },
  {
   "cell_type": "code",
   "execution_count": 64,
   "metadata": {},
   "outputs": [],
   "source": [
    "with open(\"output_car_red_second.txt\",\"w\")as a:\n",
    "    for path, subdirs, files in os.walk(r'../bfs-camera-driver/subscriber/data/img/car_B_red_14000/cars_calibrated_red'):\n",
    "       \n",
    "            \n",
    "        def atoi(text):\n",
    "            return int(text) if text.isdigit() else text\n",
    "\n",
    "        def natural_keys(text):\n",
    "           \n",
    "            return [ atoi(c) for c in re.split(r'(\\d+)', text) ]\n",
    "\n",
    "\n",
    "        files.sort(key=natural_keys)\n",
    "        files.remove('calibrated_0.png')\n",
    "        \n",
    "        for filename in files:\n",
    "            \n",
    "            f=os.path.join('data/' + filename)\n",
    "            a.write(str(f) + os.linesep)"
   ]
  },
  {
   "cell_type": "markdown",
   "metadata": {},
   "source": [
    "# For Both Car First Input.txt"
   ]
  },
  {
   "cell_type": "code",
   "execution_count": 2,
   "metadata": {},
   "outputs": [],
   "source": [
    "with open(\"output_car_both_first_new.txt\",\"w\")as a:\n",
    "    for path, subdirs, files in os.walk(r'../bfs-camera-driver/subscriber/data/img/two_cars_A-14000_b-13000/cars_calibrated_both'):\n",
    "       \n",
    "            \n",
    "        def atoi(text):\n",
    "            return int(text) if text.isdigit() else text\n",
    "\n",
    "        def natural_keys(text):\n",
    "            \n",
    "            return [ atoi(c) for c in re.split(r'(\\d+)', text) ]\n",
    "        \n",
    "        \n",
    "        files.sort(key=natural_keys)\n",
    "        for filename in files:\n",
    "            \n",
    "            f=os.path.join('data/' + filename)\n",
    "            a.write(str(f) + os.linesep)"
   ]
  },
  {
   "cell_type": "markdown",
   "metadata": {},
   "source": [
    "# For Both Car Second Input.txt"
   ]
  },
  {
   "cell_type": "code",
   "execution_count": 3,
   "metadata": {},
   "outputs": [],
   "source": [
    "with open(\"output_car_both_second_new.txt\",\"w\")as a:\n",
    "    for path, subdirs, files in os.walk(r'../bfs-camera-driver/subscriber/data/img/two_cars_A-14000_b-13000/cars_calibrated_both'):\n",
    "       \n",
    "            \n",
    "        def atoi(text):\n",
    "            return int(text) if text.isdigit() else text\n",
    "\n",
    "        def natural_keys(text):\n",
    "            \n",
    "            return [ atoi(c) for c in re.split(r'(\\d+)', text) ]\n",
    "        \n",
    "        \n",
    "        files.sort(key=natural_keys)\n",
    "        files.remove('calibrated_0.png')\n",
    "        \n",
    "        for filename in files:\n",
    "            \n",
    "            f=os.path.join('data/' + filename)\n",
    "            a.write(str(f) + os.linesep)"
   ]
  },
  {
   "cell_type": "code",
   "execution_count": null,
   "metadata": {},
   "outputs": [],
   "source": []
  }
 ],
 "metadata": {
  "kernelspec": {
   "display_name": "Python 3",
   "language": "python",
   "name": "python3"
  },
  "language_info": {
   "codemirror_mode": {
    "name": "ipython",
    "version": 3
   },
   "file_extension": ".py",
   "mimetype": "text/x-python",
   "name": "python",
   "nbconvert_exporter": "python",
   "pygments_lexer": "ipython3",
   "version": "3.8.5"
  }
 },
 "nbformat": 4,
 "nbformat_minor": 5
}
