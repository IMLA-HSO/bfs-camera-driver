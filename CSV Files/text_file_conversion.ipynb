{
 "cells": [
  {
   "cell_type": "markdown",
   "metadata": {},
   "source": [
    "# File Conversion\n",
    "\n",
    "In this notebook we are storing our car image data into the text file format to give it to the FlowNet 2.0 model"
   ]
  },
  {
   "cell_type": "markdown",
   "metadata": {},
   "source": [
    "# Data Requirement \n",
    "\n",
    "- To run the Flownet 2.0 model we need two input files and one output file. \n",
    "- The second input file should have one image less than the first input file\n",
    "- All files should be in the '**.txt**' format\n",
    "- All the input files names in the '**.txt**' file must have extension as '**.png**'\n",
    "- The output file contain same number of files as first input files.\n",
    "- The file names in the output file must have extension '**.flo**'\n",
    "\n",
    "Run this jupyter notebook to create the input and output files and follow procedure in '**Readme.md**' file"
   ]
  },
  {
   "cell_type": "markdown",
   "metadata": {},
   "source": [
    "# Import Libraries"
   ]
  },
  {
   "cell_type": "code",
   "execution_count": null,
   "metadata": {},
   "outputs": [],
   "source": [
    "import os\n",
    "import re"
   ]
  },
  {
   "cell_type": "markdown",
   "metadata": {},
   "source": [
    "# For Yellow Car First Input.txt"
   ]
  },
  {
   "cell_type": "code",
   "execution_count": 58,
   "metadata": {},
   "outputs": [],
   "source": [
    "# Open first input file name \n",
    "\n",
    "with open(\"output_car_yellow_first.txt\",\"w\")as a:\n",
    "    for path, subdirs, files in os.walk(r'../bfs-camera-driver/subscriber/data/img/car_A_Yellow_15000/car_yellow_calibrated'):\n",
    "        def atoi(text):\n",
    "            return int(text) if text.isdigit() else text\n",
    "\n",
    "        def natural_keys(text):\n",
    "            return [ atoi(c) for c in re.split(r'(\\d+)', text) ]\n",
    "\n",
    "        # Sort data in numerial prder\n",
    "        files.sort(key=natural_keys)\n",
    "        \n",
    "        # Write files\n",
    "        for filename in files:\n",
    "            f=os.path.join('data/' + filename)\n",
    "            a.write(str(f) + os.linesep)"
   ]
  },
  {
   "cell_type": "markdown",
   "metadata": {},
   "source": [
    "# For Yellow Car Second Input.txt "
   ]
  },
  {
   "cell_type": "code",
   "execution_count": 60,
   "metadata": {},
   "outputs": [],
   "source": [
    "# Open first input file name \n",
    "\n",
    "with open(\"output_car_yellow_second.txt\",\"w\")as a:\n",
    "    for path, subdirs, files in os.walk(r'../bfs-camera-driver/subscriber/data/img/car_A_Yellow_15000/car_yellow_calibrated'): \n",
    "        def atoi(text):\n",
    "            return int(text) if text.isdigit() else text\n",
    "\n",
    "        def natural_keys(text):\n",
    "           \n",
    "            return [ atoi(c) for c in re.split(r'(\\d+)', text) ]\n",
    "        \n",
    "        # Sort data in numerical order\n",
    "        files.sort(key=natural_keys)\n",
    "        \n",
    "        # Remove first image name\n",
    "        files.remove('calibrated_0.png')\n",
    "        \n",
    "        # Write the file\n",
    "        for filename in files:\n",
    "            f=os.path.join('data/' + filename)\n",
    "            a.write(str(f) + os.linesep)"
   ]
  },
  {
   "cell_type": "markdown",
   "metadata": {},
   "source": [
    "# For Red Car First Input.txt"
   ]
  },
  {
   "cell_type": "code",
   "execution_count": 63,
   "metadata": {},
   "outputs": [],
   "source": [
    "# Open first input file for Red Car Data\n",
    "\n",
    "with open(\"output_car_red_first.txt\",\"w\")as a:\n",
    "    for path, subdirs, files in os.walk(r'../bfs-camera-driver/subscriber/data/img/car_B_red_14000/cars_calibrated_red'):\n",
    "        def atoi(text):\n",
    "            return int(text) if text.isdigit() else text\n",
    "\n",
    "        def natural_keys(text):\n",
    "            \n",
    "            return [ atoi(c) for c in re.split(r'(\\d+)', text) ]\n",
    "        \n",
    "        # Sort files numerically\n",
    "        files.sort(key=natural_keys)\n",
    "        \n",
    "        # Write files\n",
    "        for filename in files:\n",
    "            f=os.path.join('data/' + filename)\n",
    "            a.write(str(f) + os.linesep)"
   ]
  },
  {
   "cell_type": "markdown",
   "metadata": {},
   "source": [
    "# For Red Car Second Input.txt"
   ]
  },
  {
   "cell_type": "code",
   "execution_count": 64,
   "metadata": {},
   "outputs": [],
   "source": [
    "# Open second input file for Red Car Data\n",
    "\n",
    "with open(\"output_car_red_second.txt\",\"w\")as a:\n",
    "    for path, subdirs, files in os.walk(r'../bfs-camera-driver/subscriber/data/img/car_B_red_14000/cars_calibrated_red'):  \n",
    "        def atoi(text):\n",
    "            return int(text) if text.isdigit() else text\n",
    "\n",
    "        def natural_keys(text):\n",
    "            return [ atoi(c) for c in re.split(r'(\\d+)', text) ]\n",
    "\n",
    "        # Sort files numerically\n",
    "        files.sort(key=natural_keys)\n",
    "        \n",
    "        # Remove first image name\n",
    "        files.remove('calibrated_0.png')\n",
    "        \n",
    "        # Write Data\n",
    "        for filename in files:\n",
    "            f=os.path.join('data/' + filename)\n",
    "            a.write(str(f) + os.linesep)"
   ]
  },
  {
   "cell_type": "markdown",
   "metadata": {},
   "source": [
    "# For Both Car First Input.txt"
   ]
  },
  {
   "cell_type": "code",
   "execution_count": 2,
   "metadata": {},
   "outputs": [],
   "source": [
    "# Open first input file for Both Car Data\n",
    "\n",
    "with open(\"output_car_both_first_new.txt\",\"w\")as a:\n",
    "    for path, subdirs, files in os.walk(r'../bfs-camera-driver/subscriber/data/img/two_cars_A-14000_b-13000/cars_calibrated_both'):\n",
    "        def atoi(text):\n",
    "            return int(text) if text.isdigit() else text\n",
    "\n",
    "        def natural_keys(text):\n",
    "            \n",
    "            return [ atoi(c) for c in re.split(r'(\\d+)', text) ]\n",
    "        \n",
    "        # Sort files numericaly\n",
    "        files.sort(key=natural_keys)\n",
    "        \n",
    "        # Write Data\n",
    "        for filename in files:\n",
    "            f=os.path.join('data/' + filename)\n",
    "            a.write(str(f) + os.linesep)"
   ]
  },
  {
   "cell_type": "markdown",
   "metadata": {},
   "source": [
    "# For Both Car Second Input.txt"
   ]
  },
  {
   "cell_type": "code",
   "execution_count": 3,
   "metadata": {},
   "outputs": [],
   "source": [
    "# Open second input file for Both Car Data\n",
    "\n",
    "with open(\"output_car_both_second_new.txt\",\"w\")as a:\n",
    "    for path, subdirs, files in os.walk(r'../bfs-camera-driver/subscriber/data/img/two_cars_A-14000_b-13000/cars_calibrated_both'):\n",
    "        def atoi(text):\n",
    "            return int(text) if text.isdigit() else text\n",
    "\n",
    "        def natural_keys(text):\n",
    "            \n",
    "            return [ atoi(c) for c in re.split(r'(\\d+)', text) ]\n",
    "        \n",
    "        # Sort files numerically\n",
    "        files.sort(key=natural_keys)\n",
    "        \n",
    "        # Remove first image name\n",
    "        files.remove('calibrated_0.png')\n",
    "        \n",
    "        # Write Data\n",
    "        for filename in files:\n",
    "            f=os.path.join('data/' + filename)\n",
    "            a.write(str(f) + os.linesep)"
   ]
  }
 ],
 "metadata": {
  "kernelspec": {
   "display_name": "Python 3",
   "language": "python",
   "name": "python3"
  },
  "language_info": {
   "codemirror_mode": {
    "name": "ipython",
    "version": 3
   },
   "file_extension": ".py",
   "mimetype": "text/x-python",
   "name": "python",
   "nbconvert_exporter": "python",
   "pygments_lexer": "ipython3",
   "version": "3.8.5"
  }
 },
 "nbformat": 4,
 "nbformat_minor": 5
}
